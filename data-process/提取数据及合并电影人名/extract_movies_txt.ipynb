{
 "cells": [
  {
   "cell_type": "code",
   "execution_count": 29,
   "metadata": {},
   "outputs": [],
   "source": [
    "import pandas as pd\n",
    "\n",
    "productId = []\n",
    "for line in open(\"../Data/Raw/movies.txt\", 'r', encoding='UTF-8', errors='ignore'): \n",
    "    split = line.split()\n",
    "#     print(split)\n",
    "    if split == []:\n",
    "        continue\n",
    "    if split[0] == \"product/productId:\":\n",
    "        if split[1] not in productId:\n",
    "            productId.append(split[1])\n",
    "#             print(productId)\n",
    "\n",
    "     \n",
    "# 字典中的key值即为csv中列名\n",
    "dataframe = pd.DataFrame({'productId':productId})\n",
    "\n",
    "# 将DataFrame存储为csv,index表示是否显示行名，default=True\n",
    "dataframe.to_csv(\"productId.csv\",index=False,sep=',')"
   ]
  },
  {
   "cell_type": "code",
   "execution_count": null,
   "metadata": {},
   "outputs": [],
   "source": [
    "import pandas as pd\n",
    "\n",
    "i = 0\n",
    "\n",
    "productId = []\n",
    "userId = []\n",
    "profileName = []\n",
    "helpfulness = []\n",
    "score = []\n",
    "time = []\n",
    "summary = []\n",
    "text = []\n",
    "\n",
    "for line in open(\"../Data/Raw/movies.txt\", 'r', encoding='UTF-8', errors='ignore'): \n",
    "    split = line.split(' ', 1)\n",
    "#     print(split)\n",
    "    if split == []:\n",
    "        continue\n",
    "        \n",
    "    if split[0] == \"product/productId:\":\n",
    "        productId.append(split[1])\n",
    "    elif split[0] == \"review/userId:\":\n",
    "        userId.append(split[1])\n",
    "    elif split[0] == \"review/profileName:\":\n",
    "        profileName.append(split[1])\n",
    "    elif split[0] == \"review/helpfulness:\":\n",
    "        helpfulness.append(split[1])\n",
    "    elif split[0] == \"review/score:\":\n",
    "        score.append(split[1])\n",
    "    elif split[0] == \"review/time:\":\n",
    "        time.append(split[1])\n",
    "    elif split[0] == \"review/summary:\":\n",
    "        summary.append(split[1])\n",
    "    elif split[0] == \"review/text:\":\n",
    "        text.append(split[1])\n",
    "        i += 1\n",
    "    \n",
    "    if i % 1000000 == 0:\n",
    "        print(i)\n",
    "            \n",
    "print(i)\n",
    "# 字典中的key值即为csv中列名\n",
    "dataframe = pd.DataFrame({'productId':productId,'userId':userId,'profileName':profileName,'helpfulness':helpfulness,'score':score,'time':time,'summary':summary,'text':text})\n",
    "\n",
    "# 将DataFrame存储为csv,index表示是否显示行名，default=True\n",
    "dataframe.to_csv(\"comments.csv\",index=False,sep=',')"
   ]
  }
 ],
 "metadata": {
  "kernelspec": {
   "display_name": "Python 3 (ipykernel)",
   "language": "python",
   "name": "python3"
  },
  "language_info": {
   "codemirror_mode": {
    "name": "ipython",
    "version": 3
   },
   "file_extension": ".py",
   "mimetype": "text/x-python",
   "name": "python",
   "nbconvert_exporter": "python",
   "pygments_lexer": "ipython3",
   "version": "3.10.0"
  },
  "vscode": {
   "interpreter": {
    "hash": "4b487cdf36fc7a48ae577b957332079b2747f35540183853cae25be5e97c109a"
   }
  }
 },
 "nbformat": 4,
 "nbformat_minor": 4
}
